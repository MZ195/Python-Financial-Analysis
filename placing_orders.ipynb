{
 "cells": [
  {
   "cell_type": "markdown",
   "id": "58aa476d-0d9f-4c6b-84a9-224d74c08ce5",
   "metadata": {},
   "source": [
    "# Connecting to Alpaca"
   ]
  },
  {
   "cell_type": "code",
   "execution_count": 4,
   "id": "7d761d21-7cca-4da6-be85-f53104749aaa",
   "metadata": {},
   "outputs": [],
   "source": [
    "import configparser\n",
    "import requests\n",
    "import json"
   ]
  },
  {
   "cell_type": "code",
   "execution_count": 53,
   "id": "f3260488-1d45-4ff0-8777-729177a314c9",
   "metadata": {},
   "outputs": [],
   "source": [
    "class Alpaca_account():\n",
    "    def __init__(self, config_file_path):\n",
    "        config = configparser.ConfigParser()\n",
    "        config.read(config_file_path)\n",
    "\n",
    "        self.API_KEY = config['KEYS']['API_KEY']\n",
    "        self.SECRECT_KEY = config['KEYS']['SECRET_KEY']\n",
    "        self.BASE_URL = \"https://api.alpaca.markets\"\n",
    "        self.ACCOUNT_URL = f\"{BASE_URL}/v2/account\"\n",
    "        self.ORDERS_URL = f\"{BASE_URL}/v2/orders\"\n",
    "        \n",
    "        self.HEADERS = {\"APCA-API-KEY-ID\": API_KEY, \"APCA-API-SECRET-KEY\": SECRECT_KEY}\n",
    "        \n",
    "    def get_account(self):\n",
    "        \"\"\"\n",
    "        Gets the accoutn's data\n",
    "        \"\"\"\n",
    "        \n",
    "        res = requests.get(self.ACCOUNT_URL, headers= self.HEADERS)\n",
    "        return json.loads(res.content)\n",
    "    \n",
    "    def get_orders(self):\n",
    "        \"\"\"\n",
    "        Gets the previous orders placed by the account\n",
    "        \"\"\"\n",
    "        \n",
    "        res = requests.get(self.ORDERS_URL, headers= self.HEADERS)\n",
    "        return json.loads(res.content)\n",
    "    \n",
    "    def create_order(self, symbol, qty, side, order_type, time_in_force):\n",
    "        \"\"\"\n",
    "        Create a POST request to either buy or sell\n",
    "        \"\"\"\n",
    "        \n",
    "        data = {\n",
    "            'symbol': symbol,               # Company name code\n",
    "            'qty': qty,                     # Quantity of equities to buy/sell\n",
    "            'side': side,                   # Type of action (Buy/Sell)\n",
    "            'type': order_type,              # Type of order\n",
    "            'time_in_force': time_in_force  # When will the order be executed\n",
    "        }\n",
    "        \n",
    "        res = requests.post(self.ORDERS_URL, json= data, headers= self.HEADERS)\n",
    "        return json.loads(res.content)\n",
    "    \n",
    "    def create_order_limit(self, symbol, qty, side, order_type, time_in_force, limit_price):\n",
    "        \"\"\"\n",
    "        Create a POST request to either buy or sell\n",
    "        \"\"\"\n",
    "        \n",
    "        data = {\n",
    "            'symbol': symbol,               # Company name code\n",
    "            'qty': qty,                     # Quantity of equities to buy/sell\n",
    "            'side': side,                   # Type of action (Buy/Sell)\n",
    "            'type': order_type,              # Type of order\n",
    "            'time_in_force': time_in_force, # When will the order be executed\n",
    "            'limit_price': limit_price      # The price limit\n",
    "        }\n",
    "        \n",
    "        res = requests.post(self.ORDERS_URL, json= data, headers= self.HEADERS)\n",
    "        return json.loads(res.content)\n",
    "    \n",
    "    def create_order_complete(self, symbol, qty, side, order_type, time_in_force, limit_price, stop_loss):\n",
    "        \"\"\"\n",
    "        Create a POST request to either buy or sell\n",
    "        \"\"\"\n",
    "        \n",
    "        data = {\n",
    "            'symbol': symbol,               # Company name code\n",
    "            'qty': qty,                     # Quantity of equities to buy/sell\n",
    "            'side': side,                   # Type of action (Buy/Sell)\n",
    "            'type': order_type,             # Type of order\n",
    "            'time_in_force': time_in_force, # When will the order be executed\n",
    "            'order_class': 'bracket',       # Bracket orders allow us to dynamically sell or buy based on our limits\n",
    "            'take_profit': {'limit_price': limit_price},\n",
    "            'stop_loss': {'stop_price': stop_loss}\n",
    "        }\n",
    "        \n",
    "        res = requests.post(self.ORDERS_URL, json= data, headers= self.HEADERS)\n",
    "        return json.loads(res.content)"
   ]
  },
  {
   "cell_type": "code",
   "execution_count": 54,
   "id": "5f3d5183-69da-439c-88ca-df5c19b9d4f9",
   "metadata": {},
   "outputs": [],
   "source": [
    "my_account = Alpaca_account(\"dl.cfg\")"
   ]
  },
  {
   "cell_type": "code",
   "execution_count": 46,
   "id": "c6a449d1-4bdd-4326-b195-7d23886497f8",
   "metadata": {},
   "outputs": [
    {
     "data": {
      "text/plain": [
       "{'id': 'a92faeb7-ffdb-42f4-8532-52353a3ea3f2',\n",
       " 'account_number': '946972277',\n",
       " 'status': 'ACTION_REQUIRED',\n",
       " 'currency': 'USD',\n",
       " 'buying_power': '0',\n",
       " 'regt_buying_power': '0',\n",
       " 'daytrading_buying_power': '0',\n",
       " 'non_marginable_buying_power': '0',\n",
       " 'cash': '0',\n",
       " 'pending_transfer_in': '0',\n",
       " 'portfolio_value': '0',\n",
       " 'pattern_day_trader': False,\n",
       " 'trading_blocked': False,\n",
       " 'transfers_blocked': False,\n",
       " 'account_blocked': False,\n",
       " 'created_at': '2021-06-09T10:00:01.681989Z',\n",
       " 'trade_suspended_by_user': False,\n",
       " 'multiplier': '1',\n",
       " 'shorting_enabled': False,\n",
       " 'equity': '0',\n",
       " 'last_equity': '0',\n",
       " 'long_market_value': '0',\n",
       " 'short_market_value': '0',\n",
       " 'initial_margin': '0',\n",
       " 'maintenance_margin': '0',\n",
       " 'last_maintenance_margin': '0',\n",
       " 'sma': '0',\n",
       " 'daytrade_count': 0}"
      ]
     },
     "execution_count": 46,
     "metadata": {},
     "output_type": "execute_result"
    }
   ],
   "source": [
    "my_account.get_account()"
   ]
  },
  {
   "cell_type": "code",
   "execution_count": 47,
   "id": "02e5b4cd-a844-45ec-98d3-65a5bfa00730",
   "metadata": {},
   "outputs": [
    {
     "data": {
      "text/plain": [
       "[]"
      ]
     },
     "execution_count": 47,
     "metadata": {},
     "output_type": "execute_result"
    }
   ],
   "source": [
    "my_account.get_orders()"
   ]
  },
  {
   "cell_type": "code",
   "execution_count": 48,
   "id": "67ebff9d-f1a1-425b-b462-9309286e2bb7",
   "metadata": {},
   "outputs": [
    {
     "data": {
      "text/plain": [
       "{'code': 40310000, 'message': 'account is not authorized to trade'}"
      ]
     },
     "execution_count": 48,
     "metadata": {},
     "output_type": "execute_result"
    }
   ],
   "source": [
    "my_account.create_order('AAPL',  # Company ticker\n",
    "                       10,       # 10 equities\n",
    "                       'buy',    # buy action\n",
    "                       'market', # based on market value\n",
    "                       'gtc'     # good till canceled\n",
    "                       )"
   ]
  },
  {
   "cell_type": "code",
   "execution_count": 49,
   "id": "f50c7585-247d-4653-8115-99cb38a082a5",
   "metadata": {},
   "outputs": [
    {
     "data": {
      "text/plain": [
       "{'code': 40310000, 'message': 'account is not authorized to trade'}"
      ]
     },
     "execution_count": 49,
     "metadata": {},
     "output_type": "execute_result"
    }
   ],
   "source": [
    "my_account.create_order('AAPL',  # Company ticker\n",
    "                       10,       # 10 equities\n",
    "                       'sell',    # buy action\n",
    "                       'market', # based on market value\n",
    "                       'gtc'     # good till canceled\n",
    "                       )"
   ]
  },
  {
   "cell_type": "code",
   "execution_count": 50,
   "id": "bab83cd4-3167-4cd2-bd84-86c5f39411c8",
   "metadata": {},
   "outputs": [
    {
     "data": {
      "text/plain": [
       "{'code': 40310000, 'message': 'account is not authorized to trade'}"
      ]
     },
     "execution_count": 50,
     "metadata": {},
     "output_type": "execute_result"
    }
   ],
   "source": [
    "my_account.create_order_limit('AAPL',\n",
    "                             10,\n",
    "                             'buy',\n",
    "                             'limit',\n",
    "                             'gtc',\n",
    "                             180)"
   ]
  },
  {
   "cell_type": "code",
   "execution_count": 55,
   "id": "d9009d4a-542f-4552-8749-81ef54c160ee",
   "metadata": {},
   "outputs": [
    {
     "data": {
      "text/plain": [
       "{'code': 40310000, 'message': 'account is not authorized to trade'}"
      ]
     },
     "execution_count": 55,
     "metadata": {},
     "output_type": "execute_result"
    }
   ],
   "source": [
    "my_account.create_order_complete('AAPL', 10, 'buy', 'market', 'gtc', 220, 180)"
   ]
  },
  {
   "cell_type": "code",
   "execution_count": null,
   "id": "6e05d5cd-0da1-4644-8a2e-b07a98484128",
   "metadata": {},
   "outputs": [],
   "source": []
  }
 ],
 "metadata": {
  "kernelspec": {
   "display_name": "Python 3",
   "language": "python",
   "name": "python3"
  },
  "language_info": {
   "codemirror_mode": {
    "name": "ipython",
    "version": 3
   },
   "file_extension": ".py",
   "mimetype": "text/x-python",
   "name": "python",
   "nbconvert_exporter": "python",
   "pygments_lexer": "ipython3",
   "version": "3.8.2"
  }
 },
 "nbformat": 4,
 "nbformat_minor": 5
}
