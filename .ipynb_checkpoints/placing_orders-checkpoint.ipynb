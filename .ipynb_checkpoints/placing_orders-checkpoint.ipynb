{
 "cells": [
  {
   "cell_type": "markdown",
   "id": "58aa476d-0d9f-4c6b-84a9-224d74c08ce5",
   "metadata": {},
   "source": [
    "# Connecting to Alpaca"
   ]
  },
  {
   "cell_type": "code",
   "execution_count": 1,
   "id": "7d761d21-7cca-4da6-be85-f53104749aaa",
   "metadata": {},
   "outputs": [],
   "source": [
    "from Alpaca_account import Alpaca_account"
   ]
  },
  {
   "cell_type": "code",
   "execution_count": 2,
   "id": "5f3d5183-69da-439c-88ca-df5c19b9d4f9",
   "metadata": {},
   "outputs": [],
   "source": [
    "my_account = Alpaca_account(\"dl.cfg\")"
   ]
  },
  {
   "cell_type": "code",
   "execution_count": 3,
   "id": "c6a449d1-4bdd-4326-b195-7d23886497f8",
   "metadata": {},
   "outputs": [
    {
     "data": {
      "text/plain": [
       "{'id': 'a92faeb7-ffdb-42f4-8532-52353a3ea3f2',\n",
       " 'account_number': '946972277',\n",
       " 'status': 'ACTION_REQUIRED',\n",
       " 'currency': 'USD',\n",
       " 'buying_power': '0',\n",
       " 'regt_buying_power': '0',\n",
       " 'daytrading_buying_power': '0',\n",
       " 'non_marginable_buying_power': '0',\n",
       " 'cash': '0',\n",
       " 'pending_transfer_in': '0',\n",
       " 'portfolio_value': '0',\n",
       " 'pattern_day_trader': False,\n",
       " 'trading_blocked': False,\n",
       " 'transfers_blocked': False,\n",
       " 'account_blocked': False,\n",
       " 'created_at': '2021-06-09T10:00:01.681989Z',\n",
       " 'trade_suspended_by_user': False,\n",
       " 'multiplier': '1',\n",
       " 'shorting_enabled': False,\n",
       " 'equity': '0',\n",
       " 'last_equity': '0',\n",
       " 'long_market_value': '0',\n",
       " 'short_market_value': '0',\n",
       " 'initial_margin': '0',\n",
       " 'maintenance_margin': '0',\n",
       " 'last_maintenance_margin': '0',\n",
       " 'sma': '0',\n",
       " 'daytrade_count': 0}"
      ]
     },
     "execution_count": 3,
     "metadata": {},
     "output_type": "execute_result"
    }
   ],
   "source": [
    "my_account.get_account()"
   ]
  },
  {
   "cell_type": "code",
   "execution_count": 4,
   "id": "02e5b4cd-a844-45ec-98d3-65a5bfa00730",
   "metadata": {},
   "outputs": [
    {
     "data": {
      "text/plain": [
       "[]"
      ]
     },
     "execution_count": 4,
     "metadata": {},
     "output_type": "execute_result"
    }
   ],
   "source": [
    "my_account.get_orders()"
   ]
  },
  {
   "cell_type": "code",
   "execution_count": 5,
   "id": "67ebff9d-f1a1-425b-b462-9309286e2bb7",
   "metadata": {},
   "outputs": [
    {
     "data": {
      "text/plain": [
       "{'code': 40310000, 'message': 'account is not authorized to trade'}"
      ]
     },
     "execution_count": 5,
     "metadata": {},
     "output_type": "execute_result"
    }
   ],
   "source": [
    "my_account.create_order('AAPL',  # Company ticker\n",
    "                       10,       # 10 equities\n",
    "                       'buy',    # buy action\n",
    "                       'market', # based on market value\n",
    "                       'gtc'     # good till canceled\n",
    "                       )"
   ]
  },
  {
   "cell_type": "code",
   "execution_count": 6,
   "id": "f50c7585-247d-4653-8115-99cb38a082a5",
   "metadata": {},
   "outputs": [
    {
     "data": {
      "text/plain": [
       "{'code': 40310000, 'message': 'account is not authorized to trade'}"
      ]
     },
     "execution_count": 6,
     "metadata": {},
     "output_type": "execute_result"
    }
   ],
   "source": [
    "my_account.create_order('AAPL',  # Company ticker\n",
    "                       10,       # 10 equities\n",
    "                       'sell',    # buy action\n",
    "                       'market', # based on market value\n",
    "                       'gtc'     # good till canceled\n",
    "                       )"
   ]
  },
  {
   "cell_type": "code",
   "execution_count": 7,
   "id": "bab83cd4-3167-4cd2-bd84-86c5f39411c8",
   "metadata": {},
   "outputs": [
    {
     "data": {
      "text/plain": [
       "{'code': 40310000, 'message': 'account is not authorized to trade'}"
      ]
     },
     "execution_count": 7,
     "metadata": {},
     "output_type": "execute_result"
    }
   ],
   "source": [
    "my_account.create_order_limit('AAPL',\n",
    "                             10,\n",
    "                             'buy',\n",
    "                             'limit',\n",
    "                             'gtc',\n",
    "                             180)"
   ]
  },
  {
   "cell_type": "code",
   "execution_count": 8,
   "id": "d9009d4a-542f-4552-8749-81ef54c160ee",
   "metadata": {},
   "outputs": [
    {
     "data": {
      "text/plain": [
       "{'code': 40310000, 'message': 'account is not authorized to trade'}"
      ]
     },
     "execution_count": 8,
     "metadata": {},
     "output_type": "execute_result"
    }
   ],
   "source": [
    "my_account.create_order_complete('AAPL', 10, 'buy', 'market', 'gtc', 220, 180)"
   ]
  },
  {
   "cell_type": "code",
   "execution_count": null,
   "id": "6e05d5cd-0da1-4644-8a2e-b07a98484128",
   "metadata": {},
   "outputs": [],
   "source": []
  }
 ],
 "metadata": {
  "kernelspec": {
   "display_name": "Python 3",
   "language": "python",
   "name": "python3"
  },
  "language_info": {
   "codemirror_mode": {
    "name": "ipython",
    "version": 3
   },
   "file_extension": ".py",
   "mimetype": "text/x-python",
   "name": "python",
   "nbconvert_exporter": "python",
   "pygments_lexer": "ipython3",
   "version": "3.8.2"
  }
 },
 "nbformat": 4,
 "nbformat_minor": 5
}
